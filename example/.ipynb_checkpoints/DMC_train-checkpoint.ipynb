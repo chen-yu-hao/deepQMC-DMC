{
 "cells": [
  {
   "cell_type": "code",
   "execution_count": 1,
   "id": "b4a77ab0-c965-4d6c-bf93-3f9f2aa3d138",
   "metadata": {},
   "outputs": [
    {
     "name": "stderr",
     "output_type": "stream",
     "text": [
      "2024-05-08 12:53:21.044188: W tensorflow/compiler/tf2tensorrt/utils/py_utils.cc:38] TF-TRT Warning: Could not find TensorRT\n"
     ]
    }
   ],
   "source": [
    "from deepqmc_wf import *"
   ]
  },
  {
   "cell_type": "code",
   "execution_count": 2,
   "id": "7a1d022a-f551-4aa9-b046-1c6e32781438",
   "metadata": {},
   "outputs": [],
   "source": [
    "mol = Molecule(  # LiH\n",
    "    coords=[[0.0, 0.0, 0.0],[2.0,0,0]],\n",
    "    charges=[7,7],\n",
    "    charge=0,\n",
    "    spin=0,\n",
    "    unit='angstrom',\n",
    ")\n",
    "# H = MolecularHamiltonian(mol=mol)\n",
    "H = MolecularHamiltonian(mol=mol)\n",
    "deepqmc_dir = os.path.dirname(deepqmc.__file__)\n",
    "config_dir = os.path.join(deepqmc_dir, 'conf/ansatz')\n",
    "\n",
    "with initialize_config_dir(version_base=None, config_dir=config_dir):\n",
    "    cfg = compose(config_name='default')\n",
    "\n",
    "cfg.n_determinants=36\n",
    "\n",
    "_ansatz = instantiate(cfg, _recursive_=True, _convert_='all')\n",
    "\n",
    "ansatz = instantiate_ansatz(H, _ansatz)\n",
    "\n",
    "\n",
    "import jax.numpy as jnp\n",
    "sampler = chain(DecorrSampler(length=20),MetropolisSampler(H))"
   ]
  },
  {
   "cell_type": "code",
   "execution_count": 3,
   "id": "5951d781-573e-406a-b745-e016a1ae01f1",
   "metadata": {},
   "outputs": [],
   "source": [
    "wf=deepqmc_wave(mol,ansatz,H)\n",
    "wf.load_deepqmc_model('../deepqmc/N2/runs_2.0/01/training/chkpt-17000.pt')"
   ]
  },
  {
   "cell_type": "code",
   "execution_count": 4,
   "id": "2a39b96e-2981-4a3e-9eb0-30941dc3c03f",
   "metadata": {},
   "outputs": [
    {
     "data": {
      "text/plain": [
       "(Array(-1., dtype=float32), Array(-14.500711, dtype=float32))"
      ]
     },
     "execution_count": 4,
     "metadata": {},
     "output_type": "execute_result"
    }
   ],
   "source": [
    "wf.deepqmc_psi(wf.r[0,0,0].reshape(-1))\n",
    "# wf.deepqmc_psi(wf.r[0,0,0].reshape(-1))[0][0][0]"
   ]
  },
  {
   "cell_type": "code",
   "execution_count": 5,
   "id": "7dbbd6a4-bce0-4eef-a7a5-26d6f75a4933",
   "metadata": {},
   "outputs": [
    {
     "data": {
      "text/plain": [
       "Array(-109.42341, dtype=float32)"
      ]
     },
     "execution_count": 5,
     "metadata": {},
     "output_type": "execute_result"
    }
   ],
   "source": [
    "wf.deepqmc_energy(wf.r[0,0,0].reshape(-1))"
   ]
  },
  {
   "cell_type": "code",
   "execution_count": 6,
   "id": "77a38e56-4207-493d-943a-6405633e68c7",
   "metadata": {},
   "outputs": [],
   "source": [
    "dmc_cfg.log.save_path=\"./deepqmc_dmc/\"\n",
    "dmc_cfg.log.restore_path=\"./deepqmc_dmc/\"\n",
    "dmc_cfg.block_size=10"
   ]
  },
  {
   "cell_type": "code",
   "execution_count": null,
   "id": "00b25d9f-c223-4f2f-800e-a6a14a83b38c",
   "metadata": {},
   "outputs": [],
   "source": [
    "position_shape=wf.r[0,0].shape\n",
    "position = wf.r[0,0].reshape(position_shape[0],position_shape[1]*position_shape[2])\n",
    "# dmc_cfg=deepqmc_psi.\n",
    "key = jax.random.PRNGKey(2938979)\n",
    "run(\n",
    "        position,\n",
    "        dmc_cfg.iterations,\n",
    "        wf.deepqmc_psi,\n",
    "        dmc_cfg.time_step, key,\n",
    "        nuclei=jnp.array(mol.coords),\n",
    "        charges=jnp.array(mol.charges),\n",
    "\n",
    "        # Below are optional arguments\n",
    "        mixed_estimator_num_steps=dmc_cfg.mixed_estimator_num_steps,\n",
    "        energy_window_size=dmc_cfg.energy_window_size,\n",
    "        weight_branch_threshold=dmc_cfg.weight_branch_threshold,\n",
    "        update_energy_offset_interval=dmc_cfg.update_energy_offset_interval,\n",
    "        energy_offset_update_amplitude=dmc_cfg.energy_offset_update_amplitude,\n",
    "        energy_cutoff_alpha=dmc_cfg.energy_cutoff_alpha,\n",
    "        effective_time_step_update_period=dmc_cfg.effective_time_step_update_period,\n",
    "        energy_outlier_rel_threshold=dmc_cfg.energy_outlier_rel_threshold,\n",
    "        fix_size=dmc_cfg.fix_size,\n",
    "        ebye_move=dmc_cfg.ebye_move,\n",
    "        block_size=dmc_cfg.block_size,\n",
    "        max_restore_nums=0,\n",
    "        save_path=dmc_cfg.log.save_path,\n",
    "        restore_path=dmc_cfg.log.save_path,\n",
    "        local_energy_func=wf.deepqmc_energy,\n",
    "    )"
   ]
  },
  {
   "cell_type": "code",
   "execution_count": null,
   "id": "db25b99c-04f6-424c-86b1-36d81ccbe771",
   "metadata": {},
   "outputs": [],
   "source": []
  }
 ],
 "metadata": {
  "kernelspec": {
   "display_name": "Python 3 (ipykernel)",
   "language": "python",
   "name": "python3"
  },
  "language_info": {
   "codemirror_mode": {
    "name": "ipython",
    "version": 3
   },
   "file_extension": ".py",
   "mimetype": "text/x-python",
   "name": "python",
   "nbconvert_exporter": "python",
   "pygments_lexer": "ipython3",
   "version": "3.10.14"
  }
 },
 "nbformat": 4,
 "nbformat_minor": 5
}
