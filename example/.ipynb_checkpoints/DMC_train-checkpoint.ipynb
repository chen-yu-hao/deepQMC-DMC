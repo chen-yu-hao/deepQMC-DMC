{
 "cells": [
  {
   "cell_type": "code",
   "execution_count": 5,
   "id": "228da8d9-5cff-461b-a7fe-68bffae90b7c",
   "metadata": {},
   "outputs": [
    {
     "ename": "ImportError",
     "evalue": "attempted relative import with no known parent package",
     "output_type": "error",
     "traceback": [
      "\u001b[0;31m---------------------------------------------------------------------------\u001b[0m",
      "\u001b[0;31mImportError\u001b[0m                               Traceback (most recent call last)",
      "Cell \u001b[0;32mIn[5], line 1\u001b[0m\n\u001b[0;32m----> 1\u001b[0m \u001b[38;5;28;01mfrom\u001b[39;00m \u001b[38;5;21;01m.\u001b[39;00m\u001b[38;5;21;01m.\u001b[39;00m\u001b[38;5;21;01msrc\u001b[39;00m\u001b[38;5;21;01m.\u001b[39;00m\u001b[38;5;21;01mdeepqmc_dmc\u001b[39;00m \u001b[38;5;28;01mimport\u001b[39;00m \u001b[38;5;241m*\u001b[39m\n",
      "\u001b[0;31mImportError\u001b[0m: attempted relative import with no known parent package"
     ]
    }
   ],
   "source": [
    "from deepqmc_dmc import *"
   ]
  },
  {
   "cell_type": "code",
   "execution_count": 2,
   "id": "7a1d022a-f551-4aa9-b046-1c6e32781438",
   "metadata": {},
   "outputs": [],
   "source": [
    "mol = Molecule(  # LiH\n",
    "    coords=[[0.0, 0.0, 0.0],[2.0,0,0]],\n",
    "    charges=[7,7],\n",
    "    charge=0,\n",
    "    spin=0,\n",
    "    unit='angstrom',\n",
    ")\n",
    "# H = MolecularHamiltonian(mol=mol)\n",
    "H = MolecularHamiltonian(mol=mol)\n",
    "deepqmc_dir = os.path.dirname(deepqmc.__file__)\n",
    "config_dir = os.path.join(deepqmc_dir, 'conf/ansatz')\n",
    "\n",
    "with initialize_config_dir(version_base=None, config_dir=config_dir):\n",
    "    cfg = compose(config_name='default')\n",
    "\n",
    "cfg.n_determinants=36\n",
    "\n",
    "_ansatz = instantiate(cfg, _recursive_=True, _convert_='all')\n",
    "\n",
    "ansatz = instantiate_ansatz(H, _ansatz)"
   ]
  },
  {
   "cell_type": "code",
   "execution_count": 3,
   "id": "5951d781-573e-406a-b745-e016a1ae01f1",
   "metadata": {},
   "outputs": [],
   "source": [
    "wf=ml_wf(mol,ansatz,H)\n",
    "wf.load_deepqmc_model('chkpt-17000.pt')"
   ]
  },
  {
   "cell_type": "code",
   "execution_count": 4,
   "id": "77a38e56-4207-493d-943a-6405633e68c7",
   "metadata": {},
   "outputs": [],
   "source": [
    "dmc_cfg.log.save_path=\"./deepqmc_dmc/\"\n",
    "dmc_cfg.log.restore_path=\"./deepqmc_dmc/\"\n",
    "dmc_cfg.block_size=10"
   ]
  },
  {
   "cell_type": "code",
   "execution_count": 6,
   "id": "00b25d9f-c223-4f2f-800e-a6a14a83b38c",
   "metadata": {},
   "outputs": [
    {
     "ename": "KeyboardInterrupt",
     "evalue": "",
     "output_type": "error",
     "traceback": [
      "\u001b[0;31m---------------------------------------------------------------------------\u001b[0m",
      "\u001b[0;31mKeyboardInterrupt\u001b[0m                         Traceback (most recent call last)",
      "Cell \u001b[0;32mIn[6], line 1\u001b[0m\n\u001b[0;32m----> 1\u001b[0m \u001b[43mdmc_run\u001b[49m\u001b[43m(\u001b[49m\u001b[43mdmc_cfg\u001b[49m\u001b[43m,\u001b[49m\u001b[43mwf\u001b[49m\u001b[43m)\u001b[49m\n",
      "File \u001b[0;32m~/psi_test2/src/deepqmc_dmc/__init__.py:116\u001b[0m, in \u001b[0;36mdmc_run\u001b[0;34m(dmc_cfg, wf)\u001b[0m\n\u001b[1;32m    114\u001b[0m \u001b[38;5;66;03m# dmc_cfg=deepqmc_psi.\u001b[39;00m\n\u001b[1;32m    115\u001b[0m key \u001b[38;5;241m=\u001b[39m jax\u001b[38;5;241m.\u001b[39mrandom\u001b[38;5;241m.\u001b[39mPRNGKey(\u001b[38;5;28mint\u001b[39m(time\u001b[38;5;241m.\u001b[39mtime()))\n\u001b[0;32m--> 116\u001b[0m \u001b[43mrun\u001b[49m\u001b[43m(\u001b[49m\n\u001b[1;32m    117\u001b[0m \u001b[43m    \u001b[49m\u001b[43mposition\u001b[49m\u001b[43m,\u001b[49m\n\u001b[1;32m    118\u001b[0m \u001b[43m    \u001b[49m\u001b[43mdmc_cfg\u001b[49m\u001b[38;5;241;43m.\u001b[39;49m\u001b[43miterations\u001b[49m\u001b[43m,\u001b[49m\n\u001b[1;32m    119\u001b[0m \u001b[43m    \u001b[49m\u001b[43mwf\u001b[49m\u001b[38;5;241;43m.\u001b[39;49m\u001b[43mdeepqmc_psi\u001b[49m\u001b[43m,\u001b[49m\n\u001b[1;32m    120\u001b[0m \u001b[43m    \u001b[49m\u001b[43mdmc_cfg\u001b[49m\u001b[38;5;241;43m.\u001b[39;49m\u001b[43mtime_step\u001b[49m\u001b[43m,\u001b[49m\u001b[43m \u001b[49m\u001b[43mkey\u001b[49m\u001b[43m,\u001b[49m\n\u001b[1;32m    121\u001b[0m \u001b[43m    \u001b[49m\u001b[43mnuclei\u001b[49m\u001b[38;5;241;43m=\u001b[39;49m\u001b[43mjnp\u001b[49m\u001b[38;5;241;43m.\u001b[39;49m\u001b[43marray\u001b[49m\u001b[43m(\u001b[49m\u001b[43mwf\u001b[49m\u001b[38;5;241;43m.\u001b[39;49m\u001b[43mmol\u001b[49m\u001b[38;5;241;43m.\u001b[39;49m\u001b[43mcoords\u001b[49m\u001b[43m)\u001b[49m\u001b[43m,\u001b[49m\n\u001b[1;32m    122\u001b[0m \u001b[43m    \u001b[49m\u001b[43mcharges\u001b[49m\u001b[38;5;241;43m=\u001b[39;49m\u001b[43mjnp\u001b[49m\u001b[38;5;241;43m.\u001b[39;49m\u001b[43marray\u001b[49m\u001b[43m(\u001b[49m\u001b[43mwf\u001b[49m\u001b[38;5;241;43m.\u001b[39;49m\u001b[43mmol\u001b[49m\u001b[38;5;241;43m.\u001b[39;49m\u001b[43mcharges\u001b[49m\u001b[43m)\u001b[49m\u001b[43m,\u001b[49m\n\u001b[1;32m    123\u001b[0m \n\u001b[1;32m    124\u001b[0m \u001b[43m    \u001b[49m\u001b[38;5;66;43;03m# Below are optional arguments\u001b[39;49;00m\n\u001b[1;32m    125\u001b[0m \u001b[43m    \u001b[49m\u001b[43mmixed_estimator_num_steps\u001b[49m\u001b[38;5;241;43m=\u001b[39;49m\u001b[43mdmc_cfg\u001b[49m\u001b[38;5;241;43m.\u001b[39;49m\u001b[43mmixed_estimator_num_steps\u001b[49m\u001b[43m,\u001b[49m\n\u001b[1;32m    126\u001b[0m \u001b[43m    \u001b[49m\u001b[43menergy_window_size\u001b[49m\u001b[38;5;241;43m=\u001b[39;49m\u001b[43mdmc_cfg\u001b[49m\u001b[38;5;241;43m.\u001b[39;49m\u001b[43menergy_window_size\u001b[49m\u001b[43m,\u001b[49m\n\u001b[1;32m    127\u001b[0m \u001b[43m    \u001b[49m\u001b[43mweight_branch_threshold\u001b[49m\u001b[38;5;241;43m=\u001b[39;49m\u001b[43mdmc_cfg\u001b[49m\u001b[38;5;241;43m.\u001b[39;49m\u001b[43mweight_branch_threshold\u001b[49m\u001b[43m,\u001b[49m\n\u001b[1;32m    128\u001b[0m \u001b[43m    \u001b[49m\u001b[43mupdate_energy_offset_interval\u001b[49m\u001b[38;5;241;43m=\u001b[39;49m\u001b[43mdmc_cfg\u001b[49m\u001b[38;5;241;43m.\u001b[39;49m\u001b[43mupdate_energy_offset_interval\u001b[49m\u001b[43m,\u001b[49m\n\u001b[1;32m    129\u001b[0m \u001b[43m    \u001b[49m\u001b[43menergy_offset_update_amplitude\u001b[49m\u001b[38;5;241;43m=\u001b[39;49m\u001b[43mdmc_cfg\u001b[49m\u001b[38;5;241;43m.\u001b[39;49m\u001b[43menergy_offset_update_amplitude\u001b[49m\u001b[43m,\u001b[49m\n\u001b[1;32m    130\u001b[0m \u001b[43m    \u001b[49m\u001b[43menergy_cutoff_alpha\u001b[49m\u001b[38;5;241;43m=\u001b[39;49m\u001b[43mdmc_cfg\u001b[49m\u001b[38;5;241;43m.\u001b[39;49m\u001b[43menergy_cutoff_alpha\u001b[49m\u001b[43m,\u001b[49m\n\u001b[1;32m    131\u001b[0m \u001b[43m    \u001b[49m\u001b[43meffective_time_step_update_period\u001b[49m\u001b[38;5;241;43m=\u001b[39;49m\u001b[43mdmc_cfg\u001b[49m\u001b[38;5;241;43m.\u001b[39;49m\u001b[43meffective_time_step_update_period\u001b[49m\u001b[43m,\u001b[49m\n\u001b[1;32m    132\u001b[0m \u001b[43m    \u001b[49m\u001b[43menergy_outlier_rel_threshold\u001b[49m\u001b[38;5;241;43m=\u001b[39;49m\u001b[43mdmc_cfg\u001b[49m\u001b[38;5;241;43m.\u001b[39;49m\u001b[43menergy_outlier_rel_threshold\u001b[49m\u001b[43m,\u001b[49m\n\u001b[1;32m    133\u001b[0m \u001b[43m    \u001b[49m\u001b[43mfix_size\u001b[49m\u001b[38;5;241;43m=\u001b[39;49m\u001b[43mdmc_cfg\u001b[49m\u001b[38;5;241;43m.\u001b[39;49m\u001b[43mfix_size\u001b[49m\u001b[43m,\u001b[49m\n\u001b[1;32m    134\u001b[0m \u001b[43m    \u001b[49m\u001b[43mebye_move\u001b[49m\u001b[38;5;241;43m=\u001b[39;49m\u001b[43mdmc_cfg\u001b[49m\u001b[38;5;241;43m.\u001b[39;49m\u001b[43mebye_move\u001b[49m\u001b[43m,\u001b[49m\n\u001b[1;32m    135\u001b[0m \u001b[43m    \u001b[49m\u001b[43mblock_size\u001b[49m\u001b[38;5;241;43m=\u001b[39;49m\u001b[43mdmc_cfg\u001b[49m\u001b[38;5;241;43m.\u001b[39;49m\u001b[43mblock_size\u001b[49m\u001b[43m,\u001b[49m\n\u001b[1;32m    136\u001b[0m \u001b[43m    \u001b[49m\u001b[43mmax_restore_nums\u001b[49m\u001b[38;5;241;43m=\u001b[39;49m\u001b[43mdmc_cfg\u001b[49m\u001b[38;5;241;43m.\u001b[39;49m\u001b[43mmax_restore_nums\u001b[49m\u001b[43m,\u001b[49m\n\u001b[1;32m    137\u001b[0m \u001b[43m    \u001b[49m\u001b[43msave_path\u001b[49m\u001b[38;5;241;43m=\u001b[39;49m\u001b[43mdmc_cfg\u001b[49m\u001b[38;5;241;43m.\u001b[39;49m\u001b[43mlog\u001b[49m\u001b[38;5;241;43m.\u001b[39;49m\u001b[43msave_path\u001b[49m\u001b[43m,\u001b[49m\n\u001b[1;32m    138\u001b[0m \u001b[43m    \u001b[49m\u001b[43mrestore_path\u001b[49m\u001b[38;5;241;43m=\u001b[39;49m\u001b[43mdmc_cfg\u001b[49m\u001b[38;5;241;43m.\u001b[39;49m\u001b[43mlog\u001b[49m\u001b[38;5;241;43m.\u001b[39;49m\u001b[43msave_path\u001b[49m\u001b[43m,\u001b[49m\n\u001b[1;32m    139\u001b[0m \u001b[43m    \u001b[49m\u001b[43mlocal_energy_func\u001b[49m\u001b[38;5;241;43m=\u001b[39;49m\u001b[43mwf\u001b[49m\u001b[38;5;241;43m.\u001b[39;49m\u001b[43mdeepqmc_energy\u001b[49m\u001b[43m,\u001b[49m\n\u001b[1;32m    140\u001b[0m \u001b[43m\u001b[49m\u001b[43m)\u001b[49m\n",
      "File \u001b[0;32m~/soft/jaqmc/jaqmc/dmc/dmc.py:298\u001b[0m, in \u001b[0;36mrun\u001b[0;34m(init_position, num_steps, vmc_wave_func_with_sign, time_step, key, nuclei, charges, t_init, local_energy_func, velocity_func, mixed_estimator_num_steps, energy_window_size, weight_branch_threshold, anchor_energy, update_energy_offset_interval, energy_offset_update_amplitude, energy_cutoff_alpha, effective_time_step_update_period, energy_clip_pair, energy_outlier_rel_threshold, fix_size, ebye_move, block_size, max_restore_nums, num_hosts, host_idx, debug_mode, state, save_path, restore_path, print_info_interval, output_csv_filename, ckpt_prefix, data_prefix, remote_storage_handler)\u001b[0m\n\u001b[1;32m    290\u001b[0m should_update_effective_time_step \u001b[38;5;241m=\u001b[39m (\n\u001b[1;32m    291\u001b[0m     (effective_time_step_update_period \u001b[38;5;241m<\u001b[39m\u001b[38;5;241m=\u001b[39m \u001b[38;5;241m0\u001b[39m)\n\u001b[1;32m    292\u001b[0m     \u001b[38;5;129;01mor\u001b[39;00m (t \u001b[38;5;241m<\u001b[39m effective_time_step_update_period))\n\u001b[1;32m    293\u001b[0m \u001b[38;5;66;03m# This is the main step running DMC. All others are the ones\u001b[39;00m\n\u001b[1;32m    294\u001b[0m \u001b[38;5;66;03m# 1. prepare data / parameter for this step\u001b[39;00m\n\u001b[1;32m    295\u001b[0m \u001b[38;5;66;03m# 2. processing output from this function.\u001b[39;00m\n\u001b[1;32m    296\u001b[0m \u001b[38;5;66;03m# `output` is of type IterationOutput\u001b[39;00m\n\u001b[1;32m    297\u001b[0m \u001b[38;5;66;03m# print(t,key,state)\u001b[39;00m\n\u001b[0;32m--> 298\u001b[0m new_t, output \u001b[38;5;241m=\u001b[39m \u001b[43mdmc_single_iteration\u001b[49m\u001b[43m(\u001b[49m\n\u001b[1;32m    299\u001b[0m \u001b[43m     \u001b[49m\u001b[43mindex\u001b[49m\u001b[38;5;241;43m=\u001b[39;49m\u001b[43mt\u001b[49m\u001b[43m,\u001b[49m\n\u001b[1;32m    300\u001b[0m \u001b[43m     \u001b[49m\u001b[43mkey\u001b[49m\u001b[38;5;241;43m=\u001b[39;49m\u001b[43mkey\u001b[49m\u001b[43m,\u001b[49m\n\u001b[1;32m    301\u001b[0m \u001b[43m     \u001b[49m\u001b[43mstate\u001b[49m\u001b[38;5;241;43m=\u001b[39;49m\u001b[43mstate\u001b[49m\u001b[43m)\u001b[49m\n\u001b[1;32m    302\u001b[0m (succeeded, state, key, averaged_energy,\n\u001b[1;32m    303\u001b[0m  num_old_walkers, acceptance_ratio, effective_time_step,\n\u001b[1;32m    304\u001b[0m  debug_info) \u001b[38;5;241m=\u001b[39m attr\u001b[38;5;241m.\u001b[39mastuple(output, recurse\u001b[38;5;241m=\u001b[39m\u001b[38;5;28;01mFalse\u001b[39;00m)\n\u001b[1;32m    306\u001b[0m (flatten_position, flatten_walker_age, flatten_weight, flatten_local_energy,\n\u001b[1;32m    307\u001b[0m  energy_offset, target_num_walkers, mixed_estimator,\n\u001b[1;32m    308\u001b[0m  mixed_estimator_calculator, effective_time_step_calculator) \u001b[38;5;241m=\u001b[39m attr\u001b[38;5;241m.\u001b[39mastuple(state, recurse\u001b[38;5;241m=\u001b[39m\u001b[38;5;28;01mFalse\u001b[39;00m)\n",
      "File \u001b[0;32m~/soft/jaqmc/jaqmc/dmc/dmc.py:923\u001b[0m, in \u001b[0;36mrecovery_wrapper.<locals>.helper\u001b[0;34m(*args, **kwargs)\u001b[0m\n\u001b[1;32m    921\u001b[0m \u001b[38;5;28;01mnonlocal\u001b[39;00m nonlocal_key\n\u001b[1;32m    922\u001b[0m \u001b[38;5;28;01mtry\u001b[39;00m:\n\u001b[0;32m--> 923\u001b[0m     result \u001b[38;5;241m=\u001b[39m \u001b[43mdmc_single_iteration\u001b[49m\u001b[43m(\u001b[49m\u001b[38;5;241;43m*\u001b[39;49m\u001b[43margs\u001b[49m\u001b[43m,\u001b[49m\u001b[43m \u001b[49m\u001b[38;5;241;43m*\u001b[39;49m\u001b[38;5;241;43m*\u001b[39;49m\u001b[43mkwargs\u001b[49m\u001b[43m)\u001b[49m\n\u001b[1;32m    924\u001b[0m     succeeded \u001b[38;5;241m=\u001b[39m \u001b[38;5;28;01mTrue\u001b[39;00m\n\u001b[1;32m    925\u001b[0m \u001b[38;5;28;01mexcept\u001b[39;00m \u001b[38;5;167;01mException\u001b[39;00m \u001b[38;5;28;01mas\u001b[39;00m e:\n",
      "File \u001b[0;32m~/soft/jaqmc/jaqmc/dmc/dmc.py:449\u001b[0m, in \u001b[0;36mmake_dmc_single_iteration.<locals>.dmc_single_iteration\u001b[0;34m(index, key, state, should_update_effective_time_step)\u001b[0m\n\u001b[1;32m    444\u001b[0m     effective_time_step \u001b[38;5;241m=\u001b[39m state\u001b[38;5;241m.\u001b[39meffective_time_step_calculator\u001b[38;5;241m.\u001b[39mrun()\n\u001b[1;32m    446\u001b[0m \u001b[38;5;28;01melse\u001b[39;00m:\n\u001b[1;32m    447\u001b[0m     (flatten_position, flatten_energy, flatten_walker_age, flatten_local_energy,\n\u001b[1;32m    448\u001b[0m     flatten_weight_delta_log, delta_R, acceptance_rate,\n\u001b[0;32m--> 449\u001b[0m     debug_info) \u001b[38;5;241m=\u001b[39m \u001b[43mdmc_step\u001b[49m\u001b[43m(\u001b[49m\n\u001b[1;32m    450\u001b[0m \u001b[43m        \u001b[49m\u001b[43mstate\u001b[49m\u001b[38;5;241;43m.\u001b[39;49m\u001b[43mposition\u001b[49m\u001b[43m,\u001b[49m\u001b[43m \u001b[49m\u001b[43mstate\u001b[49m\u001b[38;5;241;43m.\u001b[39;49m\u001b[43mwalker_age\u001b[49m\u001b[43m,\u001b[49m\u001b[43m \u001b[49m\u001b[43mstate\u001b[49m\u001b[38;5;241;43m.\u001b[39;49m\u001b[43mlocal_energy\u001b[49m\u001b[43m,\u001b[49m\u001b[43m \u001b[49m\u001b[43msubkey\u001b[49m\u001b[43m,\u001b[49m\n\u001b[1;32m    451\u001b[0m \u001b[43m        \u001b[49m\u001b[43mstate\u001b[49m\u001b[38;5;241;43m.\u001b[39;49m\u001b[43menergy_offset\u001b[49m\u001b[43m,\u001b[49m\u001b[43m \u001b[49m\u001b[43mstate\u001b[49m\u001b[38;5;241;43m.\u001b[39;49m\u001b[43mmixed_estimator\u001b[49m\u001b[43m)\u001b[49m\n\u001b[1;32m    453\u001b[0m     \u001b[38;5;28;01mif\u001b[39;00m should_update_effective_time_step:\n\u001b[1;32m    454\u001b[0m         state\u001b[38;5;241m.\u001b[39meffective_time_step_calculator\u001b[38;5;241m.\u001b[39mupdate(\n\u001b[1;32m    455\u001b[0m             diffusion_displacement\u001b[38;5;241m=\u001b[39mdelta_R,\n\u001b[1;32m    456\u001b[0m             acceptance_rate\u001b[38;5;241m=\u001b[39macceptance_rate,\n\u001b[1;32m    457\u001b[0m             weights\u001b[38;5;241m=\u001b[39mstate\u001b[38;5;241m.\u001b[39mweight)\n",
      "File \u001b[0;32m~/soft/jaqmc/jaqmc/dmc/dmc.py:877\u001b[0m, in \u001b[0;36mmake_step.<locals>.run\u001b[0;34m(flatten_position, flatten_walker_age, flatten_local_energy, key, energy_offset, mixed_estimator)\u001b[0m\n\u001b[1;32m    874\u001b[0m \u001b[38;5;28;01melse\u001b[39;00m:\n\u001b[1;32m    875\u001b[0m     local_energy \u001b[38;5;241m=\u001b[39m do_pad_and_reshape(flatten_local_energy)\n\u001b[0;32m--> 877\u001b[0m \u001b[38;5;241m*\u001b[39mresult, debug_info \u001b[38;5;241m=\u001b[39m \u001b[43mpmaped_func\u001b[49m\u001b[43m(\u001b[49m\u001b[43mmask\u001b[49m\u001b[43m,\u001b[49m\u001b[43m \u001b[49m\u001b[43mposition\u001b[49m\u001b[43m,\u001b[49m\u001b[43m \u001b[49m\u001b[43mwalker_age\u001b[49m\u001b[43m,\u001b[49m\u001b[43m \u001b[49m\u001b[43mlocal_energy\u001b[49m\u001b[43m,\u001b[49m\u001b[43m \u001b[49m\u001b[43mreshaped_keys\u001b[49m\u001b[43m,\u001b[49m\u001b[43m \u001b[49m\u001b[43menergy_offset\u001b[49m\u001b[43m,\u001b[49m\u001b[43m \u001b[49m\u001b[43mmixed_estimator\u001b[49m\u001b[43m)\u001b[49m\n\u001b[1;32m    878\u001b[0m \u001b[38;5;66;03m# Remove fake-masked elements. Otherwise they makes troubles\u001b[39;00m\n\u001b[1;32m    879\u001b[0m \u001b[38;5;66;03m# when spliting/merging walkers.\u001b[39;00m\n\u001b[1;32m    880\u001b[0m \u001b[38;5;66;03m# BTW, the repeat operation here prevent the function from being jit'ed, because the\u001b[39;00m\n\u001b[1;32m    881\u001b[0m \u001b[38;5;66;03m# output shape is unknown statically afterwards\u001b[39;00m\n\u001b[1;32m    882\u001b[0m \u001b[38;5;28;01mif\u001b[39;00m do_padding:\n",
      "\u001b[0;31mKeyboardInterrupt\u001b[0m: "
     ]
    }
   ],
   "source": [
    "dmc_run(dmc_cfg,wf)"
   ]
  },
  {
   "cell_type": "code",
   "execution_count": null,
   "id": "db25b99c-04f6-424c-86b1-36d81ccbe771",
   "metadata": {},
   "outputs": [],
   "source": []
  }
 ],
 "metadata": {
  "kernelspec": {
   "display_name": "Python 3 (ipykernel)",
   "language": "python",
   "name": "python3"
  },
  "language_info": {
   "codemirror_mode": {
    "name": "ipython",
    "version": 3
   },
   "file_extension": ".py",
   "mimetype": "text/x-python",
   "name": "python",
   "nbconvert_exporter": "python",
   "pygments_lexer": "ipython3",
   "version": "3.10.14"
  }
 },
 "nbformat": 4,
 "nbformat_minor": 5
}
