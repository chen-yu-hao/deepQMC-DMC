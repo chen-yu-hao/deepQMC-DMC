{
 "cells": [
  {
   "cell_type": "code",
   "execution_count": 1,
   "id": "a7415d74-576f-47c1-82fd-929a2f5b46b6",
   "metadata": {},
   "outputs": [
    {
     "name": "stderr",
     "output_type": "stream",
     "text": [
      "2024-05-09 06:43:56.281190: W tensorflow/compiler/tf2tensorrt/utils/py_utils.cc:38] TF-TRT Warning: Could not find TensorRT\n"
     ]
    }
   ],
   "source": [
    "from deepqmc_dmc import Molecule\n",
    "import os\n",
    "from deepqmc_dmc import MolecularHamiltonian\n",
    "import haiku as hk\n",
    "from hydra import compose, initialize_config_dir\n",
    "from hydra.utils import instantiate\n",
    "import deepqmc_dmc\n",
    "from deepqmc_dmc.app import instantiate_ansatz\n",
    "from deepqmc_dmc.wf import NeuralNetworkWaveFunction\n",
    "from deepqmc_dmc.ml_wf import *\n",
    "from deepqmc_dmc.dmc import *"
   ]
  },
  {
   "cell_type": "code",
   "execution_count": 2,
   "id": "7a1d022a-f551-4aa9-b046-1c6e32781438",
   "metadata": {},
   "outputs": [],
   "source": [
    "mol = Molecule(  # LiH\n",
    "    coords=[[0.0, 0.0, 0.0],[1.68,0,0]],\n",
    "    charges=[24.,24.],\n",
    "    charge=0,\n",
    "    spin=0,\n",
    "    unit='angstrom',\n",
    ")\n",
    "# H = MolecularHamiltonian(mol=mol)\n",
    "H = MolecularHamiltonian(mol=mol, pp_type='ccECP', pp_mask=[True,True], elec_std=0.1)\n",
    "deepqmc_dir = os.path.dirname(deepqmc_dmc.__file__)\n",
    "config_dir = os.path.join(deepqmc_dir, 'conf/ansatz')\n",
    "\n",
    "with initialize_config_dir(version_base=None, config_dir=config_dir):\n",
    "    cfg = compose(config_name='psiformer')\n",
    "\n",
    "cfg.n_determinants=36\n",
    "\n",
    "_ansatz = instantiate(cfg, _recursive_=True, _convert_='all')\n",
    "\n",
    "ansatz = instantiate_ansatz(H, _ansatz)"
   ]
  },
  {
   "cell_type": "code",
   "execution_count": 3,
   "id": "5951d781-573e-406a-b745-e016a1ae01f1",
   "metadata": {},
   "outputs": [],
   "source": [
    "wf=ml_wf(mol,ansatz,H,43)\n",
    "wf.load_deepqmc_model('../../deepqmc/Cr_36/pp/runs_1.68_psi_8000/01/training/chkpt-150000.pt')"
   ]
  },
  {
   "cell_type": "code",
   "execution_count": 4,
   "id": "b1195bbd-8cd8-441e-a0bc-91bc6653293a",
   "metadata": {},
   "outputs": [
    {
     "ename": "IndexError",
     "evalue": "Too many indices for array: 1 non-None/Ellipsis indices for dim 0.",
     "output_type": "error",
     "traceback": [
      "\u001b[0;31m---------------------------------------------------------------------------\u001b[0m",
      "\u001b[0;31mIndexError\u001b[0m                                Traceback (most recent call last)",
      "Cell \u001b[0;32mIn[4], line 1\u001b[0m\n\u001b[0;32m----> 1\u001b[0m \u001b[43mwf\u001b[49m\u001b[38;5;241;43m.\u001b[39;49m\u001b[43mdeepqmc_energy\u001b[49m\u001b[43m(\u001b[49m\u001b[43mwf\u001b[49m\u001b[38;5;241;43m.\u001b[39;49m\u001b[43mr\u001b[49m\u001b[43m[\u001b[49m\u001b[38;5;241;43m0\u001b[39;49m\u001b[43m,\u001b[49m\u001b[38;5;241;43m0\u001b[39;49m\u001b[43m,\u001b[49m\u001b[38;5;241;43m0\u001b[39;49m\u001b[43m]\u001b[49m\u001b[38;5;241;43m.\u001b[39;49m\u001b[43mreshape\u001b[49m\u001b[43m(\u001b[49m\u001b[38;5;241;43m-\u001b[39;49m\u001b[38;5;241;43m1\u001b[39;49m\u001b[43m)\u001b[49m\u001b[43m)\u001b[49m\n",
      "File \u001b[0;32m~/psi_test2/src/deepqmc_dmc/ml_wf.py:47\u001b[0m, in \u001b[0;36mml_wf.deepqmc_energy\u001b[0;34m(self, r)\u001b[0m\n\u001b[1;32m     44\u001b[0m \u001b[38;5;28;01mdef\u001b[39;00m \u001b[38;5;21mdeepqmc_energy\u001b[39m(\u001b[38;5;28mself\u001b[39m,r):\n\u001b[1;32m     45\u001b[0m     \u001b[38;5;66;03m# print(r)\u001b[39;00m\n\u001b[1;32m     46\u001b[0m     r\u001b[38;5;241m=\u001b[39mr\u001b[38;5;241m.\u001b[39mreshape([r\u001b[38;5;241m.\u001b[39mshape[\u001b[38;5;241m0\u001b[39m]\u001b[38;5;241m/\u001b[39m\u001b[38;5;241m/\u001b[39m\u001b[38;5;241m3\u001b[39m,\u001b[38;5;241m3\u001b[39m])\n\u001b[0;32m---> 47\u001b[0m     \u001b[38;5;28;01mreturn\u001b[39;00m (\u001b[38;5;28;43mself\u001b[39;49m\u001b[38;5;241;43m.\u001b[39;49m\u001b[43mlocal_energy\u001b[49m\u001b[43m(\u001b[49m\u001b[38;5;28;43mself\u001b[39;49m\u001b[38;5;241;43m.\u001b[39;49m\u001b[43mrng\u001b[49m\u001b[43m,\u001b[49m\u001b[43mphys_conf\u001b[49m\u001b[43m(\u001b[49m\u001b[38;5;28;43mself\u001b[39;49m\u001b[38;5;241;43m.\u001b[39;49m\u001b[43mR\u001b[49m\u001b[43m,\u001b[49m\u001b[43mr\u001b[49m\u001b[43m)\u001b[49m\u001b[43m)\u001b[49m\u001b[43m[\u001b[49m\u001b[38;5;241;43m0\u001b[39;49m\u001b[43m]\u001b[49m\u001b[43m[\u001b[49m\u001b[38;5;241;43m0\u001b[39;49m\u001b[43m]\u001b[49m)\n",
      "File \u001b[0;32m/opt/conda/envs/deepqmc/lib/python3.10/site-packages/jax/_src/array.py:336\u001b[0m, in \u001b[0;36mArrayImpl.__getitem__\u001b[0;34m(self, idx)\u001b[0m\n\u001b[1;32m    334\u001b[0m   \u001b[38;5;28;01mreturn\u001b[39;00m lax_numpy\u001b[38;5;241m.\u001b[39m_rewriting_take(\u001b[38;5;28mself\u001b[39m, idx)\n\u001b[1;32m    335\u001b[0m \u001b[38;5;28;01melse\u001b[39;00m:\n\u001b[0;32m--> 336\u001b[0m   \u001b[38;5;28;01mreturn\u001b[39;00m \u001b[43mlax_numpy\u001b[49m\u001b[38;5;241;43m.\u001b[39;49m\u001b[43m_rewriting_take\u001b[49m\u001b[43m(\u001b[49m\u001b[38;5;28;43mself\u001b[39;49m\u001b[43m,\u001b[49m\u001b[43m \u001b[49m\u001b[43midx\u001b[49m\u001b[43m)\u001b[49m\n",
      "File \u001b[0;32m/opt/conda/envs/deepqmc/lib/python3.10/site-packages/jax/_src/numpy/lax_numpy.py:4494\u001b[0m, in \u001b[0;36m_rewriting_take\u001b[0;34m(arr, idx, indices_are_sorted, unique_indices, mode, fill_value)\u001b[0m\n\u001b[1;32m   4491\u001b[0m       \u001b[38;5;28;01mreturn\u001b[39;00m lax\u001b[38;5;241m.\u001b[39mdynamic_index_in_dim(arr, idx, keepdims\u001b[38;5;241m=\u001b[39m\u001b[38;5;28;01mFalse\u001b[39;00m)\n\u001b[1;32m   4493\u001b[0m treedef, static_idx, dynamic_idx \u001b[38;5;241m=\u001b[39m _split_index_for_jit(idx, arr\u001b[38;5;241m.\u001b[39mshape)\n\u001b[0;32m-> 4494\u001b[0m \u001b[38;5;28;01mreturn\u001b[39;00m \u001b[43m_gather\u001b[49m\u001b[43m(\u001b[49m\u001b[43marr\u001b[49m\u001b[43m,\u001b[49m\u001b[43m \u001b[49m\u001b[43mtreedef\u001b[49m\u001b[43m,\u001b[49m\u001b[43m \u001b[49m\u001b[43mstatic_idx\u001b[49m\u001b[43m,\u001b[49m\u001b[43m \u001b[49m\u001b[43mdynamic_idx\u001b[49m\u001b[43m,\u001b[49m\u001b[43m \u001b[49m\u001b[43mindices_are_sorted\u001b[49m\u001b[43m,\u001b[49m\n\u001b[1;32m   4495\u001b[0m \u001b[43m               \u001b[49m\u001b[43munique_indices\u001b[49m\u001b[43m,\u001b[49m\u001b[43m \u001b[49m\u001b[43mmode\u001b[49m\u001b[43m,\u001b[49m\u001b[43m \u001b[49m\u001b[43mfill_value\u001b[49m\u001b[43m)\u001b[49m\n",
      "File \u001b[0;32m/opt/conda/envs/deepqmc/lib/python3.10/site-packages/jax/_src/numpy/lax_numpy.py:4503\u001b[0m, in \u001b[0;36m_gather\u001b[0;34m(arr, treedef, static_idx, dynamic_idx, indices_are_sorted, unique_indices, mode, fill_value)\u001b[0m\n\u001b[1;32m   4500\u001b[0m \u001b[38;5;28;01mdef\u001b[39;00m \u001b[38;5;21m_gather\u001b[39m(arr, treedef, static_idx, dynamic_idx, indices_are_sorted,\n\u001b[1;32m   4501\u001b[0m             unique_indices, mode, fill_value):\n\u001b[1;32m   4502\u001b[0m   idx \u001b[38;5;241m=\u001b[39m _merge_static_and_dynamic_indices(treedef, static_idx, dynamic_idx)\n\u001b[0;32m-> 4503\u001b[0m   indexer \u001b[38;5;241m=\u001b[39m \u001b[43m_index_to_gather\u001b[49m\u001b[43m(\u001b[49m\u001b[43mshape\u001b[49m\u001b[43m(\u001b[49m\u001b[43marr\u001b[49m\u001b[43m)\u001b[49m\u001b[43m,\u001b[49m\u001b[43m \u001b[49m\u001b[43midx\u001b[49m\u001b[43m)\u001b[49m  \u001b[38;5;66;03m# shared with _scatter_update\u001b[39;00m\n\u001b[1;32m   4504\u001b[0m   y \u001b[38;5;241m=\u001b[39m arr\n\u001b[1;32m   4506\u001b[0m   \u001b[38;5;28;01mif\u001b[39;00m fill_value \u001b[38;5;129;01mis\u001b[39;00m \u001b[38;5;129;01mnot\u001b[39;00m \u001b[38;5;28;01mNone\u001b[39;00m:\n",
      "File \u001b[0;32m/opt/conda/envs/deepqmc/lib/python3.10/site-packages/jax/_src/numpy/lax_numpy.py:4604\u001b[0m, in \u001b[0;36m_index_to_gather\u001b[0;34m(x_shape, idx, normalize_indices)\u001b[0m\n\u001b[1;32m   4601\u001b[0m \u001b[38;5;28;01mdef\u001b[39;00m \u001b[38;5;21m_index_to_gather\u001b[39m(x_shape: Sequence[\u001b[38;5;28mint\u001b[39m], idx: Sequence[Any],\n\u001b[1;32m   4602\u001b[0m                      normalize_indices: \u001b[38;5;28mbool\u001b[39m \u001b[38;5;241m=\u001b[39m \u001b[38;5;28;01mTrue\u001b[39;00m) \u001b[38;5;241m-\u001b[39m\u001b[38;5;241m>\u001b[39m _Indexer:\n\u001b[1;32m   4603\u001b[0m   \u001b[38;5;66;03m# Remove ellipses and add trailing slice(None)s.\u001b[39;00m\n\u001b[0;32m-> 4604\u001b[0m   idx \u001b[38;5;241m=\u001b[39m \u001b[43m_canonicalize_tuple_index\u001b[49m\u001b[43m(\u001b[49m\u001b[38;5;28;43mlen\u001b[39;49m\u001b[43m(\u001b[49m\u001b[43mx_shape\u001b[49m\u001b[43m)\u001b[49m\u001b[43m,\u001b[49m\u001b[43m \u001b[49m\u001b[43midx\u001b[49m\u001b[43m)\u001b[49m\n\u001b[1;32m   4606\u001b[0m   \u001b[38;5;66;03m# Check for advanced indexing:\u001b[39;00m\n\u001b[1;32m   4607\u001b[0m   \u001b[38;5;66;03m# https://docs.scipy.org/doc/numpy/reference/arrays.indexing.html#advanced-indexing\u001b[39;00m\n\u001b[1;32m   4608\u001b[0m \n\u001b[1;32m   4609\u001b[0m   \u001b[38;5;66;03m# Do the advanced indexing axes appear contiguously? If not, NumPy semantics\u001b[39;00m\n\u001b[1;32m   4610\u001b[0m   \u001b[38;5;66;03m# move the advanced axes to the front.\u001b[39;00m\n\u001b[1;32m   4611\u001b[0m   advanced_axes_are_contiguous \u001b[38;5;241m=\u001b[39m \u001b[38;5;28;01mFalse\u001b[39;00m\n",
      "File \u001b[0;32m/opt/conda/envs/deepqmc/lib/python3.10/site-packages/jax/_src/numpy/lax_numpy.py:4913\u001b[0m, in \u001b[0;36m_canonicalize_tuple_index\u001b[0;34m(arr_ndim, idx, array_name)\u001b[0m\n\u001b[1;32m   4911\u001b[0m len_without_none \u001b[38;5;241m=\u001b[39m \u001b[38;5;28msum\u001b[39m(e \u001b[38;5;129;01mis\u001b[39;00m \u001b[38;5;129;01mnot\u001b[39;00m \u001b[38;5;28;01mNone\u001b[39;00m \u001b[38;5;129;01mand\u001b[39;00m e \u001b[38;5;129;01mis\u001b[39;00m \u001b[38;5;129;01mnot\u001b[39;00m \u001b[38;5;28mEllipsis\u001b[39m \u001b[38;5;28;01mfor\u001b[39;00m e \u001b[38;5;129;01min\u001b[39;00m idx)\n\u001b[1;32m   4912\u001b[0m \u001b[38;5;28;01mif\u001b[39;00m len_without_none \u001b[38;5;241m>\u001b[39m arr_ndim:\n\u001b[0;32m-> 4913\u001b[0m   \u001b[38;5;28;01mraise\u001b[39;00m \u001b[38;5;167;01mIndexError\u001b[39;00m(\n\u001b[1;32m   4914\u001b[0m       \u001b[38;5;124mf\u001b[39m\u001b[38;5;124m\"\u001b[39m\u001b[38;5;124mToo many indices for \u001b[39m\u001b[38;5;132;01m{\u001b[39;00marray_name\u001b[38;5;132;01m}\u001b[39;00m\u001b[38;5;124m: \u001b[39m\u001b[38;5;132;01m{\u001b[39;00mlen_without_none\u001b[38;5;132;01m}\u001b[39;00m\u001b[38;5;124m \u001b[39m\u001b[38;5;124m\"\u001b[39m\n\u001b[1;32m   4915\u001b[0m       \u001b[38;5;124mf\u001b[39m\u001b[38;5;124m\"\u001b[39m\u001b[38;5;124mnon-None/Ellipsis indices for dim \u001b[39m\u001b[38;5;132;01m{\u001b[39;00marr_ndim\u001b[38;5;132;01m}\u001b[39;00m\u001b[38;5;124m.\u001b[39m\u001b[38;5;124m\"\u001b[39m)\n\u001b[1;32m   4916\u001b[0m ellipses \u001b[38;5;241m=\u001b[39m (i \u001b[38;5;28;01mfor\u001b[39;00m i, elt \u001b[38;5;129;01min\u001b[39;00m \u001b[38;5;28menumerate\u001b[39m(idx) \u001b[38;5;28;01mif\u001b[39;00m elt \u001b[38;5;129;01mis\u001b[39;00m \u001b[38;5;28mEllipsis\u001b[39m)\n\u001b[1;32m   4917\u001b[0m ellipsis_index \u001b[38;5;241m=\u001b[39m \u001b[38;5;28mnext\u001b[39m(ellipses, \u001b[38;5;28;01mNone\u001b[39;00m)\n",
      "\u001b[0;31mIndexError\u001b[0m: Too many indices for array: 1 non-None/Ellipsis indices for dim 0."
     ]
    }
   ],
   "source": [
    "wf.deepqmc_energy(wf.r[0,0,0].reshape(-1))"
   ]
  },
  {
   "cell_type": "code",
   "execution_count": 4,
   "id": "77a38e56-4207-493d-943a-6405633e68c7",
   "metadata": {},
   "outputs": [],
   "source": [
    "dmc_cfg.log.save_path=\"./deepqmc_dmc/\"\n",
    "dmc_cfg.log.restore_path=\"./deepqmc_dmc/\"\n",
    "dmc_cfg.block_size=10"
   ]
  },
  {
   "cell_type": "code",
   "execution_count": 5,
   "id": "00b25d9f-c223-4f2f-800e-a6a14a83b38c",
   "metadata": {},
   "outputs": [
    {
     "name": "stderr",
     "output_type": "stream",
     "text": [
      "\n",
      "KeyboardInterrupt\n",
      "\n"
     ]
    }
   ],
   "source": [
    "dmc_run(dmc_cfg,wf)"
   ]
  },
  {
   "cell_type": "code",
   "execution_count": null,
   "id": "e67abd79-1d8a-400c-a7f2-4514f64eb501",
   "metadata": {},
   "outputs": [],
   "source": []
  }
 ],
 "metadata": {
  "kernelspec": {
   "display_name": "Python 3 (ipykernel)",
   "language": "python",
   "name": "python3"
  },
  "language_info": {
   "codemirror_mode": {
    "name": "ipython",
    "version": 3
   },
   "file_extension": ".py",
   "mimetype": "text/x-python",
   "name": "python",
   "nbconvert_exporter": "python",
   "pygments_lexer": "ipython3",
   "version": "3.10.14"
  }
 },
 "nbformat": 4,
 "nbformat_minor": 5
}
