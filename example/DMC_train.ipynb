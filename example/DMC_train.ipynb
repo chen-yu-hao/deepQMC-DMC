{
 "cells": [
  {
   "cell_type": "code",
   "execution_count": 1,
   "id": "a7415d74-576f-47c1-82fd-929a2f5b46b6",
   "metadata": {},
   "outputs": [
    {
     "name": "stderr",
     "output_type": "stream",
     "text": [
      "2024-05-09 01:58:38.100827: W tensorflow/compiler/tf2tensorrt/utils/py_utils.cc:38] TF-TRT Warning: Could not find TensorRT\n"
     ]
    }
   ],
   "source": [
    "from deepqmc_dmc import Molecule\n",
    "import os\n",
    "from deepqmc_dmc import MolecularHamiltonian\n",
    "import haiku as hk\n",
    "from hydra import compose, initialize_config_dir\n",
    "from hydra.utils import instantiate\n",
    "import deepqmc_dmc\n",
    "from deepqmc_dmc.app import instantiate_ansatz\n",
    "from deepqmc_dmc.wf import NeuralNetworkWaveFunction\n",
    "from deepqmc_dmc.ml_wf import *\n",
    "from deepqmc_dmc.dmc import *"
   ]
  },
  {
   "cell_type": "code",
   "execution_count": 2,
   "id": "7a1d022a-f551-4aa9-b046-1c6e32781438",
   "metadata": {},
   "outputs": [],
   "source": [
    "mol = Molecule(  # LiH\n",
    "    coords=[[0.0, 0.0, 0.0],[2.0,0,0]],\n",
    "    charges=[7,7],\n",
    "    charge=0,\n",
    "    spin=0,\n",
    "    unit='angstrom',\n",
    ")\n",
    "# H = MolecularHamiltonian(mol=mol)\n",
    "H = MolecularHamiltonian(mol=mol)\n",
    "deepqmc_dir = os.path.dirname(deepqmc_dmc.__file__)\n",
    "config_dir = os.path.join(deepqmc_dir, 'conf/ansatz')\n",
    "\n",
    "with initialize_config_dir(version_base=None, config_dir=config_dir):\n",
    "    cfg = compose(config_name='default')\n",
    "\n",
    "cfg.n_determinants=36\n",
    "\n",
    "_ansatz = instantiate(cfg, _recursive_=True, _convert_='all')\n",
    "\n",
    "ansatz = instantiate_ansatz(H, _ansatz)"
   ]
  },
  {
   "cell_type": "code",
   "execution_count": 3,
   "id": "5951d781-573e-406a-b745-e016a1ae01f1",
   "metadata": {},
   "outputs": [],
   "source": [
    "wf=ml_wf(mol,ansatz,H)\n",
    "wf.load_deepqmc_model('chkpt-17000.pt')"
   ]
  },
  {
   "cell_type": "code",
   "execution_count": 4,
   "id": "77a38e56-4207-493d-943a-6405633e68c7",
   "metadata": {},
   "outputs": [],
   "source": [
    "dmc_cfg.log.save_path=\"./deepqmc_dmc/\"\n",
    "dmc_cfg.log.restore_path=\"./deepqmc_dmc/\"\n",
    "dmc_cfg.block_size=10"
   ]
  },
  {
   "cell_type": "code",
   "execution_count": 5,
   "id": "00b25d9f-c223-4f2f-800e-a6a14a83b38c",
   "metadata": {},
   "outputs": [
    {
     "name": "stderr",
     "output_type": "stream",
     "text": [
      "\n",
      "KeyboardInterrupt\n",
      "\n"
     ]
    }
   ],
   "source": [
    "dmc_run(dmc_cfg,wf)"
   ]
  },
  {
   "cell_type": "code",
   "execution_count": null,
   "id": "e67abd79-1d8a-400c-a7f2-4514f64eb501",
   "metadata": {},
   "outputs": [],
   "source": []
  }
 ],
 "metadata": {
  "kernelspec": {
   "display_name": "Python 3 (ipykernel)",
   "language": "python",
   "name": "python3"
  },
  "language_info": {
   "codemirror_mode": {
    "name": "ipython",
    "version": 3
   },
   "file_extension": ".py",
   "mimetype": "text/x-python",
   "name": "python",
   "nbconvert_exporter": "python",
   "pygments_lexer": "ipython3",
   "version": "3.10.14"
  }
 },
 "nbformat": 4,
 "nbformat_minor": 5
}
