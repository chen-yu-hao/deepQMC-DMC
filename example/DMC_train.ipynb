{
 "cells": [
  {
   "cell_type": "code",
   "execution_count": 1,
   "id": "228da8d9-5cff-461b-a7fe-68bffae90b7c",
   "metadata": {},
   "outputs": [
    {
     "name": "stderr",
     "output_type": "stream",
     "text": [
      "2024-05-08 14:21:36.359101: W tensorflow/compiler/tf2tensorrt/utils/py_utils.cc:38] TF-TRT Warning: Could not find TensorRT\n"
     ]
    }
   ],
   "source": [
    "from deepqmc_dmc import *"
   ]
  },
  {
   "cell_type": "code",
   "execution_count": 2,
   "id": "7a1d022a-f551-4aa9-b046-1c6e32781438",
   "metadata": {},
   "outputs": [],
   "source": [
    "mol = Molecule(  # LiH\n",
    "    coords=[[0.0, 0.0, 0.0],[2.0,0,0]],\n",
    "    charges=[7,7],\n",
    "    charge=0,\n",
    "    spin=0,\n",
    "    unit='angstrom',\n",
    ")\n",
    "# H = MolecularHamiltonian(mol=mol)\n",
    "H = MolecularHamiltonian(mol=mol)\n",
    "deepqmc_dir = os.path.dirname(deepqmc.__file__)\n",
    "config_dir = os.path.join(deepqmc_dir, 'conf/ansatz')\n",
    "\n",
    "with initialize_config_dir(version_base=None, config_dir=config_dir):\n",
    "    cfg = compose(config_name='default')\n",
    "\n",
    "cfg.n_determinants=36\n",
    "\n",
    "_ansatz = instantiate(cfg, _recursive_=True, _convert_='all')\n",
    "\n",
    "ansatz = instantiate_ansatz(H, _ansatz)\n",
    "\n",
    "\n",
    "import jax.numpy as jnp\n",
    "sampler = chain(DecorrSampler(length=20),MetropolisSampler(H))"
   ]
  },
  {
   "cell_type": "code",
   "execution_count": 3,
   "id": "5951d781-573e-406a-b745-e016a1ae01f1",
   "metadata": {},
   "outputs": [],
   "source": [
    "wf=ml_wf(mol,ansatz,H)\n",
    "wf.load_deepqmc_model('chkpt-17000.pt')"
   ]
  },
  {
   "cell_type": "code",
   "execution_count": 4,
   "id": "77a38e56-4207-493d-943a-6405633e68c7",
   "metadata": {},
   "outputs": [],
   "source": [
    "dmc_cfg.log.save_path=\"./deepqmc_dmc/\"\n",
    "dmc_cfg.log.restore_path=\"./deepqmc_dmc/\"\n",
    "dmc_cfg.block_size=10"
   ]
  },
  {
   "cell_type": "code",
   "execution_count": 5,
   "id": "00b25d9f-c223-4f2f-800e-a6a14a83b38c",
   "metadata": {},
   "outputs": [
    {
     "ename": "NameError",
     "evalue": "name 'mol' is not defined",
     "output_type": "error",
     "traceback": [
      "\u001b[0;31m---------------------------------------------------------------------------\u001b[0m",
      "\u001b[0;31mNameError\u001b[0m                                 Traceback (most recent call last)",
      "Cell \u001b[0;32mIn[5], line 1\u001b[0m\n\u001b[0;32m----> 1\u001b[0m \u001b[43mrun\u001b[49m\u001b[43m(\u001b[49m\u001b[43mdmc_cfg\u001b[49m\u001b[43m,\u001b[49m\u001b[43mwf\u001b[49m\u001b[43m)\u001b[49m\n",
      "File \u001b[0;32m~/psi_test2/src/deepqmc_dmc/__init__.py:121\u001b[0m, in \u001b[0;36mrun\u001b[0;34m(dmc_cfg, wf)\u001b[0m\n\u001b[1;32m    114\u001b[0m \u001b[38;5;66;03m# dmc_cfg=deepqmc_psi.\u001b[39;00m\n\u001b[1;32m    115\u001b[0m key \u001b[38;5;241m=\u001b[39m jax\u001b[38;5;241m.\u001b[39mrandom\u001b[38;5;241m.\u001b[39mPRNGKey(\u001b[38;5;28mint\u001b[39m(time\u001b[38;5;241m.\u001b[39mtime()))\n\u001b[1;32m    116\u001b[0m run(\n\u001b[1;32m    117\u001b[0m     position,\n\u001b[1;32m    118\u001b[0m     dmc_cfg\u001b[38;5;241m.\u001b[39miterations,\n\u001b[1;32m    119\u001b[0m     wf\u001b[38;5;241m.\u001b[39mdeepqmc_psi,\n\u001b[1;32m    120\u001b[0m     dmc_cfg\u001b[38;5;241m.\u001b[39mtime_step, key,\n\u001b[0;32m--> 121\u001b[0m     nuclei\u001b[38;5;241m=\u001b[39mjnp\u001b[38;5;241m.\u001b[39marray(\u001b[43mmol\u001b[49m\u001b[38;5;241m.\u001b[39mcoords),\n\u001b[1;32m    122\u001b[0m     charges\u001b[38;5;241m=\u001b[39mjnp\u001b[38;5;241m.\u001b[39marray(mol\u001b[38;5;241m.\u001b[39mcharges),\n\u001b[1;32m    123\u001b[0m \n\u001b[1;32m    124\u001b[0m     \u001b[38;5;66;03m# Below are optional arguments\u001b[39;00m\n\u001b[1;32m    125\u001b[0m     mixed_estimator_num_steps\u001b[38;5;241m=\u001b[39mdmc_cfg\u001b[38;5;241m.\u001b[39mmixed_estimator_num_steps,\n\u001b[1;32m    126\u001b[0m     energy_window_size\u001b[38;5;241m=\u001b[39mdmc_cfg\u001b[38;5;241m.\u001b[39menergy_window_size,\n\u001b[1;32m    127\u001b[0m     weight_branch_threshold\u001b[38;5;241m=\u001b[39mdmc_cfg\u001b[38;5;241m.\u001b[39mweight_branch_threshold,\n\u001b[1;32m    128\u001b[0m     update_energy_offset_interval\u001b[38;5;241m=\u001b[39mdmc_cfg\u001b[38;5;241m.\u001b[39mupdate_energy_offset_interval,\n\u001b[1;32m    129\u001b[0m     energy_offset_update_amplitude\u001b[38;5;241m=\u001b[39mdmc_cfg\u001b[38;5;241m.\u001b[39menergy_offset_update_amplitude,\n\u001b[1;32m    130\u001b[0m     energy_cutoff_alpha\u001b[38;5;241m=\u001b[39mdmc_cfg\u001b[38;5;241m.\u001b[39menergy_cutoff_alpha,\n\u001b[1;32m    131\u001b[0m     effective_time_step_update_period\u001b[38;5;241m=\u001b[39mdmc_cfg\u001b[38;5;241m.\u001b[39meffective_time_step_update_period,\n\u001b[1;32m    132\u001b[0m     energy_outlier_rel_threshold\u001b[38;5;241m=\u001b[39mdmc_cfg\u001b[38;5;241m.\u001b[39menergy_outlier_rel_threshold,\n\u001b[1;32m    133\u001b[0m     fix_size\u001b[38;5;241m=\u001b[39mdmc_cfg\u001b[38;5;241m.\u001b[39mfix_size,\n\u001b[1;32m    134\u001b[0m     ebye_move\u001b[38;5;241m=\u001b[39mdmc_cfg\u001b[38;5;241m.\u001b[39mebye_move,\n\u001b[1;32m    135\u001b[0m     block_size\u001b[38;5;241m=\u001b[39mdmc_cfg\u001b[38;5;241m.\u001b[39mblock_size,\n\u001b[1;32m    136\u001b[0m     max_restore_nums\u001b[38;5;241m=\u001b[39mdmc_cfg\u001b[38;5;241m.\u001b[39mmax_restore_nums,\n\u001b[1;32m    137\u001b[0m     save_path\u001b[38;5;241m=\u001b[39mdmc_cfg\u001b[38;5;241m.\u001b[39mlog\u001b[38;5;241m.\u001b[39msave_path,\n\u001b[1;32m    138\u001b[0m     restore_path\u001b[38;5;241m=\u001b[39mdmc_cfg\u001b[38;5;241m.\u001b[39mlog\u001b[38;5;241m.\u001b[39msave_path,\n\u001b[1;32m    139\u001b[0m     local_energy_func\u001b[38;5;241m=\u001b[39mwf\u001b[38;5;241m.\u001b[39mdeepqmc_energy,\n\u001b[1;32m    140\u001b[0m )\n",
      "\u001b[0;31mNameError\u001b[0m: name 'mol' is not defined"
     ]
    }
   ],
   "source": [
    "run(dmc_cfg,wf)"
   ]
  },
  {
   "cell_type": "code",
   "execution_count": null,
   "id": "db25b99c-04f6-424c-86b1-36d81ccbe771",
   "metadata": {},
   "outputs": [],
   "source": []
  }
 ],
 "metadata": {
  "kernelspec": {
   "display_name": "Python 3 (ipykernel)",
   "language": "python",
   "name": "python3"
  },
  "language_info": {
   "codemirror_mode": {
    "name": "ipython",
    "version": 3
   },
   "file_extension": ".py",
   "mimetype": "text/x-python",
   "name": "python",
   "nbconvert_exporter": "python",
   "pygments_lexer": "ipython3",
   "version": "3.10.14"
  }
 },
 "nbformat": 4,
 "nbformat_minor": 5
}
